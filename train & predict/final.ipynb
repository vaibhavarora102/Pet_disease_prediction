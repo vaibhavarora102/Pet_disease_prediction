{
 "cells": [
  {
   "cell_type": "code",
   "execution_count": 5,
   "metadata": {},
   "outputs": [],
   "source": [
    "from tensorflow.keras import regularizers\n",
    "import tensorflow as tf\n",
    "import os\n",
    "\n",
    "from tensorflow.keras.models import load_model\n"
   ]
  },
  {
   "cell_type": "code",
   "execution_count": 6,
   "metadata": {},
   "outputs": [],
   "source": [
    "import matplotlib.pyplot as plt\n",
    "%matplotlib inline"
   ]
  },
  {
   "cell_type": "code",
   "execution_count": 8,
   "metadata": {},
   "outputs": [],
   "source": [
    "breed_model = load_model('./model/breed_final')"
   ]
  },
  {
   "cell_type": "code",
   "execution_count": 10,
   "metadata": {},
   "outputs": [
    {
     "name": "stdout",
     "output_type": "stream",
     "text": [
      "WARNING:tensorflow:Inconsistent references when loading the checkpoint into this object graph. Either the Trackable object references in the Python program have changed in an incompatible way, or the checkpoint was generated in an incompatible program.\n",
      "\n",
      "Two checkpoint references resolved to different objects (<tensorflow.python.keras.layers.convolutional.Conv2D object at 0x7f873f31a510> and <tensorflow.python.keras.layers.pooling.MaxPooling2D object at 0x7f873f31fcd0>).\n",
      "WARNING:tensorflow:Inconsistent references when loading the checkpoint into this object graph. Either the Trackable object references in the Python program have changed in an incompatible way, or the checkpoint was generated in an incompatible program.\n",
      "\n",
      "Two checkpoint references resolved to different objects (<tensorflow.python.keras.layers.convolutional.Conv2D object at 0x7f873f3209d0> and <tensorflow.python.keras.layers.pooling.MaxPooling2D object at 0x7f873f33df50>).\n",
      "WARNING:tensorflow:Inconsistent references when loading the checkpoint into this object graph. Either the Trackable object references in the Python program have changed in an incompatible way, or the checkpoint was generated in an incompatible program.\n",
      "\n",
      "Two checkpoint references resolved to different objects (<tensorflow.python.keras.layers.convolutional.Conv2D object at 0x7f873f322c90> and <tensorflow.python.keras.layers.pooling.MaxPooling2D object at 0x7f873f341250>).\n",
      "WARNING:tensorflow:Inconsistent references when loading the checkpoint into this object graph. Either the Trackable object references in the Python program have changed in an incompatible way, or the checkpoint was generated in an incompatible program.\n",
      "\n",
      "Two checkpoint references resolved to different objects (<tensorflow.python.keras.layers.core.Dense object at 0x7f873f342b90> and <tensorflow.python.keras.layers.core.Dense object at 0x7f873f48ac10>).\n",
      "WARNING:tensorflow:Inconsistent references when loading the checkpoint into this object graph. Either the Trackable object references in the Python program have changed in an incompatible way, or the checkpoint was generated in an incompatible program.\n",
      "\n",
      "Two checkpoint references resolved to different objects (<tensorflow.python.keras.layers.convolutional.Conv2D object at 0x7f873f3209d0> and <tensorflow.python.keras.layers.pooling.MaxPooling2D object at 0x7f873f31fcd0>).\n",
      "WARNING:tensorflow:Inconsistent references when loading the checkpoint into this object graph. Either the Trackable object references in the Python program have changed in an incompatible way, or the checkpoint was generated in an incompatible program.\n",
      "\n",
      "Two checkpoint references resolved to different objects (<tensorflow.python.keras.layers.convolutional.Conv2D object at 0x7f873f322c90> and <tensorflow.python.keras.layers.pooling.MaxPooling2D object at 0x7f873f33df50>).\n",
      "WARNING:tensorflow:Inconsistent references when loading the checkpoint into this object graph. Either the Trackable object references in the Python program have changed in an incompatible way, or the checkpoint was generated in an incompatible program.\n",
      "\n",
      "Two checkpoint references resolved to different objects (<tensorflow.python.keras.layers.core.Dropout object at 0x7f873f341a50> and <tensorflow.python.keras.layers.pooling.MaxPooling2D object at 0x7f873f341250>).\n",
      "WARNING:tensorflow:Inconsistent references when loading the checkpoint into this object graph. Either the Trackable object references in the Python program have changed in an incompatible way, or the checkpoint was generated in an incompatible program.\n",
      "\n",
      "Two checkpoint references resolved to different objects (<tensorflow.python.keras.layers.core.Flatten object at 0x7f873f3421d0> and <tensorflow.python.keras.layers.core.Dropout object at 0x7f873f341a50>).\n",
      "WARNING:tensorflow:Inconsistent references when loading the checkpoint into this object graph. Either the Trackable object references in the Python program have changed in an incompatible way, or the checkpoint was generated in an incompatible program.\n",
      "\n",
      "Two checkpoint references resolved to different objects (<tensorflow.python.keras.layers.core.Dense object at 0x7f873f342b90> and <tensorflow.python.keras.layers.core.Flatten object at 0x7f873f3421d0>).\n",
      "WARNING:tensorflow:No training configuration found in save file, so the model was *not* compiled. Compile it manually.\n"
     ]
    }
   ],
   "source": [
    "disease_model = load_model('./model/dog')"
   ]
  },
  {
   "cell_type": "code",
   "execution_count": 80,
   "metadata": {},
   "outputs": [],
   "source": [
    "# sample labels\n",
    "d_labels=[\"apetite_loss\",\"hair_loss\", \"patch\", \"ticks\", \"watery_eyes\"]\n",
    "b_labels=[\"beagle\",\"bulldog\", \"doberman\", \"german shepherd\", \"pomerian\"]"
   ]
  },
  {
   "cell_type": "code",
   "execution_count": 82,
   "metadata": {},
   "outputs": [],
   "source": [
    "# ---------------------------------helper function -------------------\n",
    "def feature(bre):\n",
    "    breed =str(bre)\n",
    "    if breed ==\"beagle\":\n",
    "        return \"lemon and white colored\"\n",
    "    elif breed == \"bulldog\":\n",
    "        return \"fawn white colored\"\n",
    "    elif breed == \"doberman\":\n",
    "        return \"fawn black colored\"\n",
    "    elif breed == \"german shepherd\":\n",
    "        return \"black and tan colored\"\n",
    "    elif breed == \"pomerian\":\n",
    "        return \"spitzy\"\n",
    "    \n",
    "def caution(dis):\n",
    "    disease=str(dis)\n",
    "    if disease == \"apetite_loss\":\n",
    "        return \"need to deworm\"\n",
    "    elif disease == \"hair_loss\":\n",
    "        return \"dermatitis, but medicine is based on weight.\"\n",
    "    elif disease == \"hair_loss\":\n",
    "        return \"dermatitis, but medicine is based on weight, for immediate relief one could use lotion.\"\n",
    "    elif disease == \"ticks\":\n",
    "        return \"need to deworm\"\n",
    "    elif disease == \"watery_eyes\":\n",
    "        return \"need to deworm\"\n",
    "    \n",
    "    \n",
    "        "
   ]
  },
  {
   "cell_type": "code",
   "execution_count": 81,
   "metadata": {},
   "outputs": [],
   "source": [
    "import numpy as np\n",
    "from tensorflow.keras.preprocessing import image\n",
    "def prediction(path,model_name,label_name):\n",
    "    \n",
    "    img= image.load_img(path,target_size=(150,150))\n",
    "    x= image.img_to_array(img)\n",
    "    x=np.expand_dims(x, axis=0)\n",
    "\n",
    "    images=np.vstack([x])\n",
    "    classes=model_name.predict(images, batch_size=10)\n",
    "\n",
    "    cout=0\n",
    "    for i in range(4):\n",
    "        if classes[0][i]>classes[0][i+1]:\n",
    "            classes[0][i+1]=classes[0][i]\n",
    "        else:\n",
    "            cout+=1\n",
    "    return label_name[cout]"
   ]
  },
  {
   "cell_type": "code",
   "execution_count": 83,
   "metadata": {},
   "outputs": [
    {
     "name": "stdout",
     "output_type": "stream",
     "text": [
      "your black and tan colored german shepherd is having apetite_loss , we suggest to need to deworm\n"
     ]
    }
   ],
   "source": [
    "image_path=\"/home/vaibhav/Desktop/mp.jpeg\"\n",
    "\n",
    "disease = prediction(image_path,disease_model,d_labels)\n",
    "breed = prediction(image_path,breed_model,b_labels)\n",
    "feature =feature(breed)\n",
    "precure=caution(disease)\n",
    "    \n",
    "print(\"your\",feature,breed, \"is having\",disease,\", we suggest to\", precure)"
   ]
  },
  {
   "cell_type": "code",
   "execution_count": null,
   "metadata": {},
   "outputs": [],
   "source": []
  }
 ],
 "metadata": {
  "kernelspec": {
   "display_name": "Python 3",
   "language": "python",
   "name": "python3"
  },
  "language_info": {
   "codemirror_mode": {
    "name": "ipython",
    "version": 3
   },
   "file_extension": ".py",
   "mimetype": "text/x-python",
   "name": "python",
   "nbconvert_exporter": "python",
   "pygments_lexer": "ipython3",
   "version": "3.7.9"
  }
 },
 "nbformat": 4,
 "nbformat_minor": 4
}
